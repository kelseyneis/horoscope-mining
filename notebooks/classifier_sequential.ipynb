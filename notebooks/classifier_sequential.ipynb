{
  "nbformat": 4,
  "nbformat_minor": 0,
  "metadata": {
    "colab": {
      "name": "classifier_sequential.ipynb",
      "provenance": [],
      "include_colab_link": true
    },
    "kernelspec": {
      "name": "python3",
      "display_name": "Python 3"
    },
    "language_info": {
      "name": "python"
    }
  },
  "cells": [
    {
      "cell_type": "markdown",
      "metadata": {
        "id": "view-in-github",
        "colab_type": "text"
      },
      "source": [
        "<a href=\"https://colab.research.google.com/github/kelseyneis/horoscope-mining/blob/main/classifier_sequential.ipynb\" target=\"_parent\"><img src=\"https://colab.research.google.com/assets/colab-badge.svg\" alt=\"Open In Colab\"/></a>"
      ]
    },
    {
      "cell_type": "code",
      "metadata": {
        "id": "pQN2U1Z2L7zj"
      },
      "source": [
        "import pandas as pd\n",
        "import numpy as np\n",
        "import matplotlib.pyplot as plt\n"
      ],
      "execution_count": null,
      "outputs": []
    },
    {
      "cell_type": "code",
      "metadata": {
        "id": "hSzEB2TONTH2"
      },
      "source": [
        "from sklearn.model_selection import train_test_split\n",
        "from sklearn.feature_extraction.text import CountVectorizer"
      ],
      "execution_count": null,
      "outputs": []
    },
    {
      "cell_type": "code",
      "metadata": {
        "colab": {
          "base_uri": "https://localhost:8080/",
          "height": 424
        },
        "id": "fuD0xE6LN0i2",
        "outputId": "c3921330-a563-4a09-b1b0-854ae62cd2b4"
      },
      "source": [
        "df = pd.read_csv('horoscope_saved.csv')\n",
        "df.sample(frac=1.0)"
      ],
      "execution_count": null,
      "outputs": [
        {
          "output_type": "execute_result",
          "data": {
            "text/html": [
              "<div>\n",
              "<style scoped>\n",
              "    .dataframe tbody tr th:only-of-type {\n",
              "        vertical-align: middle;\n",
              "    }\n",
              "\n",
              "    .dataframe tbody tr th {\n",
              "        vertical-align: top;\n",
              "    }\n",
              "\n",
              "    .dataframe thead th {\n",
              "        text-align: right;\n",
              "    }\n",
              "</style>\n",
              "<table border=\"1\" class=\"dataframe\">\n",
              "  <thead>\n",
              "    <tr style=\"text-align: right;\">\n",
              "      <th></th>\n",
              "      <th>sign</th>\n",
              "      <th>category</th>\n",
              "      <th>date</th>\n",
              "      <th>horoscope</th>\n",
              "    </tr>\n",
              "  </thead>\n",
              "  <tbody>\n",
              "    <tr>\n",
              "      <th>16356</th>\n",
              "      <td>sagittarius</td>\n",
              "      <td>birthday</td>\n",
              "      <td>20210224</td>\n",
              "      <td>Get great pleasure this year from countless li...</td>\n",
              "    </tr>\n",
              "    <tr>\n",
              "      <th>1761</th>\n",
              "      <td>aries</td>\n",
              "      <td>birthday</td>\n",
              "      <td>20210410</td>\n",
              "      <td>Set your sights on a personal goal this year. ...</td>\n",
              "    </tr>\n",
              "    <tr>\n",
              "      <th>19872</th>\n",
              "      <td>aquarius</td>\n",
              "      <td>birthday</td>\n",
              "      <td>20201003</td>\n",
              "      <td>Your inner child is near the surface this year...</td>\n",
              "    </tr>\n",
              "    <tr>\n",
              "      <th>3426</th>\n",
              "      <td>taurus</td>\n",
              "      <td>birthday</td>\n",
              "      <td>20201027</td>\n",
              "      <td>Friends and good times near to home smooth out...</td>\n",
              "    </tr>\n",
              "    <tr>\n",
              "      <th>19135</th>\n",
              "      <td>aquarius</td>\n",
              "      <td>career</td>\n",
              "      <td>20200928</td>\n",
              "      <td>You will feel anger and aggression coming from...</td>\n",
              "    </tr>\n",
              "    <tr>\n",
              "      <th>...</th>\n",
              "      <td>...</td>\n",
              "      <td>...</td>\n",
              "      <td>...</td>\n",
              "      <td>...</td>\n",
              "    </tr>\n",
              "    <tr>\n",
              "      <th>3044</th>\n",
              "      <td>taurus</td>\n",
              "      <td>wellness</td>\n",
              "      <td>20201011</td>\n",
              "      <td>Get some space today. You are filled with a se...</td>\n",
              "    </tr>\n",
              "    <tr>\n",
              "      <th>14078</th>\n",
              "      <td>scorpio</td>\n",
              "      <td>wellness</td>\n",
              "      <td>20201204</td>\n",
              "      <td>Powers of common sense triumph when you facili...</td>\n",
              "    </tr>\n",
              "    <tr>\n",
              "      <th>13749</th>\n",
              "      <td>scorpio</td>\n",
              "      <td>career</td>\n",
              "      <td>20210110</td>\n",
              "      <td>You may feel like your lucky stars are letting...</td>\n",
              "    </tr>\n",
              "    <tr>\n",
              "      <th>15099</th>\n",
              "      <td>sagittarius</td>\n",
              "      <td>love</td>\n",
              "      <td>20200918</td>\n",
              "      <td>You have a date with the past today. You may n...</td>\n",
              "    </tr>\n",
              "    <tr>\n",
              "      <th>14678</th>\n",
              "      <td>sagittarius</td>\n",
              "      <td>general</td>\n",
              "      <td>20200725</td>\n",
              "      <td>You're apt to come up with some new, radical t...</td>\n",
              "    </tr>\n",
              "  </tbody>\n",
              "</table>\n",
              "<p>21959 rows × 4 columns</p>\n",
              "</div>"
            ],
            "text/plain": [
              "              sign  ...                                          horoscope\n",
              "16356  sagittarius  ...  Get great pleasure this year from countless li...\n",
              "1761         aries  ...  Set your sights on a personal goal this year. ...\n",
              "19872     aquarius  ...  Your inner child is near the surface this year...\n",
              "3426        taurus  ...  Friends and good times near to home smooth out...\n",
              "19135     aquarius  ...  You will feel anger and aggression coming from...\n",
              "...            ...  ...                                                ...\n",
              "3044        taurus  ...  Get some space today. You are filled with a se...\n",
              "14078      scorpio  ...  Powers of common sense triumph when you facili...\n",
              "13749      scorpio  ...  You may feel like your lucky stars are letting...\n",
              "15099  sagittarius  ...  You have a date with the past today. You may n...\n",
              "14678  sagittarius  ...  You're apt to come up with some new, radical t...\n",
              "\n",
              "[21959 rows x 4 columns]"
            ]
          },
          "metadata": {},
          "execution_count": 5
        }
      ]
    },
    {
      "cell_type": "code",
      "metadata": {
        "colab": {
          "base_uri": "https://localhost:8080/"
        },
        "id": "DCSudTVma-9x",
        "outputId": "2834d335-ad3c-42c1-9ccc-1010c8ded2c3"
      },
      "source": [
        "df.isnull().sum()"
      ],
      "execution_count": null,
      "outputs": [
        {
          "output_type": "execute_result",
          "data": {
            "text/plain": [
              "sign         0\n",
              "category     0\n",
              "date         0\n",
              "horoscope    0\n",
              "dtype: int64"
            ]
          },
          "metadata": {},
          "execution_count": 6
        }
      ]
    },
    {
      "cell_type": "code",
      "metadata": {
        "colab": {
          "base_uri": "https://localhost:8080/"
        },
        "id": "DOBvclGibGnL",
        "outputId": "96ef259d-d7ca-4932-e023-48303cd51443"
      },
      "source": [
        "df.duplicated().sum()"
      ],
      "execution_count": null,
      "outputs": [
        {
          "output_type": "execute_result",
          "data": {
            "text/plain": [
              "0"
            ]
          },
          "metadata": {},
          "execution_count": 7
        }
      ]
    },
    {
      "cell_type": "code",
      "metadata": {
        "colab": {
          "base_uri": "https://localhost:8080/",
          "height": 424
        },
        "id": "6y9xmcKzPEzo",
        "outputId": "76e9c2c7-e57a-4df6-d640-fd0392bf2e92"
      },
      "source": [
        "df_love = df[df['category']=='love']\n",
        "df_love"
      ],
      "execution_count": null,
      "outputs": [
        {
          "output_type": "execute_result",
          "data": {
            "text/html": [
              "<div>\n",
              "<style scoped>\n",
              "    .dataframe tbody tr th:only-of-type {\n",
              "        vertical-align: middle;\n",
              "    }\n",
              "\n",
              "    .dataframe tbody tr th {\n",
              "        vertical-align: top;\n",
              "    }\n",
              "\n",
              "    .dataframe thead th {\n",
              "        text-align: right;\n",
              "    }\n",
              "</style>\n",
              "<table border=\"1\" class=\"dataframe\">\n",
              "  <thead>\n",
              "    <tr style=\"text-align: right;\">\n",
              "      <th></th>\n",
              "      <th>sign</th>\n",
              "      <th>category</th>\n",
              "      <th>date</th>\n",
              "      <th>horoscope</th>\n",
              "    </tr>\n",
              "  </thead>\n",
              "  <tbody>\n",
              "    <tr>\n",
              "      <th>365</th>\n",
              "      <td>aries</td>\n",
              "      <td>love</td>\n",
              "      <td>20200616</td>\n",
              "      <td>Love is deeply private and very passionate tod...</td>\n",
              "    </tr>\n",
              "    <tr>\n",
              "      <th>366</th>\n",
              "      <td>aries</td>\n",
              "      <td>love</td>\n",
              "      <td>20200617</td>\n",
              "      <td>Today's astral configuration may not be quite ...</td>\n",
              "    </tr>\n",
              "    <tr>\n",
              "      <th>367</th>\n",
              "      <td>aries</td>\n",
              "      <td>love</td>\n",
              "      <td>20200618</td>\n",
              "      <td>The current planetary energy encourages you to...</td>\n",
              "    </tr>\n",
              "    <tr>\n",
              "      <th>368</th>\n",
              "      <td>aries</td>\n",
              "      <td>love</td>\n",
              "      <td>20200619</td>\n",
              "      <td>You will enjoy the way your love life shifts i...</td>\n",
              "    </tr>\n",
              "    <tr>\n",
              "      <th>369</th>\n",
              "      <td>aries</td>\n",
              "      <td>love</td>\n",
              "      <td>20200620</td>\n",
              "      <td>The current astral energy may disrupt some of ...</td>\n",
              "    </tr>\n",
              "    <tr>\n",
              "      <th>...</th>\n",
              "      <td>...</td>\n",
              "      <td>...</td>\n",
              "      <td>...</td>\n",
              "      <td>...</td>\n",
              "    </tr>\n",
              "    <tr>\n",
              "      <th>20856</th>\n",
              "      <td>pisces</td>\n",
              "      <td>love</td>\n",
              "      <td>20210612</td>\n",
              "      <td>Today's astral configuration gives you the cha...</td>\n",
              "    </tr>\n",
              "    <tr>\n",
              "      <th>20857</th>\n",
              "      <td>pisces</td>\n",
              "      <td>love</td>\n",
              "      <td>20210613</td>\n",
              "      <td>The current aspect means you have a wonderful ...</td>\n",
              "    </tr>\n",
              "    <tr>\n",
              "      <th>20858</th>\n",
              "      <td>pisces</td>\n",
              "      <td>love</td>\n",
              "      <td>20210614</td>\n",
              "      <td>There is a fair amount of passion and intensit...</td>\n",
              "    </tr>\n",
              "    <tr>\n",
              "      <th>20859</th>\n",
              "      <td>pisces</td>\n",
              "      <td>love</td>\n",
              "      <td>20210615</td>\n",
              "      <td>With today's astral energy, you have an amazin...</td>\n",
              "    </tr>\n",
              "    <tr>\n",
              "      <th>20860</th>\n",
              "      <td>pisces</td>\n",
              "      <td>love</td>\n",
              "      <td>20210616</td>\n",
              "      <td>Love is deeply private and very passionate tod...</td>\n",
              "    </tr>\n",
              "  </tbody>\n",
              "</table>\n",
              "<p>4392 rows × 4 columns</p>\n",
              "</div>"
            ],
            "text/plain": [
              "         sign  ...                                          horoscope\n",
              "365     aries  ...  Love is deeply private and very passionate tod...\n",
              "366     aries  ...  Today's astral configuration may not be quite ...\n",
              "367     aries  ...  The current planetary energy encourages you to...\n",
              "368     aries  ...  You will enjoy the way your love life shifts i...\n",
              "369     aries  ...  The current astral energy may disrupt some of ...\n",
              "...       ...  ...                                                ...\n",
              "20856  pisces  ...  Today's astral configuration gives you the cha...\n",
              "20857  pisces  ...  The current aspect means you have a wonderful ...\n",
              "20858  pisces  ...  There is a fair amount of passion and intensit...\n",
              "20859  pisces  ...  With today's astral energy, you have an amazin...\n",
              "20860  pisces  ...  Love is deeply private and very passionate tod...\n",
              "\n",
              "[4392 rows x 4 columns]"
            ]
          },
          "metadata": {},
          "execution_count": 8
        }
      ]
    },
    {
      "cell_type": "code",
      "metadata": {
        "id": "PkxsB9yybFmp"
      },
      "source": [
        "df_love = df_love.drop(columns=['category', 'date'])"
      ],
      "execution_count": null,
      "outputs": []
    },
    {
      "cell_type": "code",
      "metadata": {
        "id": "J-VUIlFRatwg"
      },
      "source": [
        "df_love = df_love.loc[df_love['sign'].isin(['aries','libra'])]"
      ],
      "execution_count": null,
      "outputs": []
    },
    {
      "cell_type": "code",
      "metadata": {
        "id": "SvSb7t7JPmF9"
      },
      "source": [
        "y = np.array(df_love['sign'])\n",
        "X = np.array(df_love['horoscope'])\n",
        "X_train, X_test, y_train, y_test = train_test_split(X, y, test_size=0.25, random_state=1000)\n",
        "vectorizer = CountVectorizer(stop_words='english')\n",
        "vectorizer.fit(np.array(X_train))\n",
        "X_train = vectorizer.transform(X_train)\n",
        "X_test  = vectorizer.transform(X_test)\n",
        "X_train = X_train.toarray()\n",
        "X_test = X_test.toarray()\n",
        "y_train_enc =  pd.factorize(y_train, sort=False)[0]\n",
        "y_test_enc = pd.factorize(y_test, sort=False)[0]\n"
      ],
      "execution_count": null,
      "outputs": []
    },
    {
      "cell_type": "code",
      "metadata": {
        "id": "z0AFFLjAQ5T1"
      },
      "source": [
        "from sklearn.linear_model import LogisticRegression"
      ],
      "execution_count": null,
      "outputs": []
    },
    {
      "cell_type": "code",
      "metadata": {
        "colab": {
          "base_uri": "https://localhost:8080/"
        },
        "id": "5JLg28GpSEr8",
        "outputId": "98466426-6315-4c69-82d7-0390da40e37c"
      },
      "source": [
        "%%time\n",
        "classifier = LogisticRegression(max_iter=1e7)\n",
        "classifier.fit(X_train, y_train_enc)\n",
        "score = classifier.score(X_test, y_test_enc)\n",
        "print(\"Accuracy:\",score)"
      ],
      "execution_count": null,
      "outputs": [
        {
          "output_type": "stream",
          "name": "stdout",
          "text": [
            "Accuracy: 0.4972677595628415\n",
            "CPU times: user 189 ms, sys: 40 ms, total: 229 ms\n",
            "Wall time: 130 ms\n"
          ]
        }
      ]
    },
    {
      "cell_type": "code",
      "metadata": {
        "id": "EqSSpEyEhVqn"
      },
      "source": [
        "from sklearn.neighbors import KNeighborsClassifier"
      ],
      "execution_count": null,
      "outputs": []
    },
    {
      "cell_type": "code",
      "metadata": {
        "colab": {
          "base_uri": "https://localhost:8080/"
        },
        "id": "-rpWpvoQjj7V",
        "outputId": "3ce05b13-79cd-48aa-cd75-f83727897e06"
      },
      "source": [
        "clf = KNeighborsClassifier(n_neighbors=40, metric='euclidean')\n",
        "clf.fit(X_train, y_train_enc)\n",
        "y_pred = clf.predict(X_test)\n",
        "print(\"Accuracy:\",clf.score(X_test,y_test_enc))\n",
        "\n",
        "\n"
      ],
      "execution_count": null,
      "outputs": [
        {
          "output_type": "stream",
          "name": "stdout",
          "text": [
            "Accuracy: 0.5355191256830601\n"
          ]
        }
      ]
    },
    {
      "cell_type": "code",
      "metadata": {
        "colab": {
          "base_uri": "https://localhost:8080/"
        },
        "id": "7m3zqW-_SKOs",
        "outputId": "ca039478-6597-4be1-ec9b-a3a867e5af5a"
      },
      "source": [
        "from keras.models import Sequential\n",
        "from keras import layers\n",
        "print(X_train.shape)\n",
        "print(y_train_enc.shape)\n",
        "input_dim = X_train.shape[1]  # Number of features\n",
        "model = Sequential()\n",
        "model.add(layers.Dense(10, input_dim=input_dim, activation='relu'))\n",
        "model.add(layers.Dense(100, input_dim=input_dim, activation='sigmoid'))\n",
        "model.add(layers.Dense(10, input_dim=input_dim, activation='relu'))\n",
        "model.add(layers.Dense(1, activation='relu'))\n",
        "model.compile(loss='binary_crossentropy', optimizer='SGD', metrics=['accuracy'])\n",
        "model.summary()"
      ],
      "execution_count": null,
      "outputs": [
        {
          "output_type": "stream",
          "name": "stdout",
          "text": [
            "(549, 2991)\n",
            "(549,)\n",
            "Model: \"sequential_4\"\n",
            "_________________________________________________________________\n",
            " Layer (type)                Output Shape              Param #   \n",
            "=================================================================\n",
            " dense_12 (Dense)            (None, 10)                29920     \n",
            "                                                                 \n",
            " dense_13 (Dense)            (None, 100)               1100      \n",
            "                                                                 \n",
            " dense_14 (Dense)            (None, 10)                1010      \n",
            "                                                                 \n",
            " dense_15 (Dense)            (None, 1)                 11        \n",
            "                                                                 \n",
            "=================================================================\n",
            "Total params: 32,041\n",
            "Trainable params: 32,041\n",
            "Non-trainable params: 0\n",
            "_________________________________________________________________\n"
          ]
        }
      ]
    },
    {
      "cell_type": "code",
      "metadata": {
        "colab": {
          "base_uri": "https://localhost:8080/"
        },
        "id": "QSuhrag5Js7O",
        "outputId": "663dbee0-5e86-40e3-d25a-32b3ef7cac32"
      },
      "source": [
        "X_train"
      ],
      "execution_count": null,
      "outputs": [
        {
          "output_type": "execute_result",
          "data": {
            "text/plain": [
              "array([[0, 0, 0, ..., 0, 0, 0],\n",
              "       [0, 1, 0, ..., 0, 0, 0],\n",
              "       [0, 0, 0, ..., 0, 0, 0],\n",
              "       ...,\n",
              "       [0, 0, 0, ..., 0, 0, 0],\n",
              "       [0, 0, 0, ..., 0, 0, 0],\n",
              "       [0, 0, 0, ..., 0, 0, 0]])"
            ]
          },
          "metadata": {},
          "execution_count": 59
        }
      ]
    },
    {
      "cell_type": "code",
      "metadata": {
        "colab": {
          "base_uri": "https://localhost:8080/"
        },
        "id": "8piINbJ-Jv6U",
        "outputId": "10ab2c0f-6606-4ef9-e96f-09d3956a40ab"
      },
      "source": [
        "y_train_enc, y_train"
      ],
      "execution_count": null,
      "outputs": [
        {
          "output_type": "execute_result",
          "data": {
            "text/plain": [
              "(array([0, 1, 1, 1, 0, 1, 1, 1, 0, 0, 1, 0, 0, 1, 0, 1, 0, 1, 1, 1, 1, 1,\n",
              "        0, 1, 1, 1, 1, 0, 1, 0, 1, 0, 1, 0, 0, 0, 1, 1, 0, 0, 0, 0, 0, 0,\n",
              "        0, 1, 1, 0, 0, 0, 1, 1, 1, 1, 1, 1, 0, 1, 1, 1, 1, 1, 0, 1, 1, 0,\n",
              "        1, 1, 0, 1, 0, 0, 0, 0, 1, 0, 1, 1, 1, 1, 1, 0, 0, 0, 0, 1, 0, 0,\n",
              "        1, 1, 1, 1, 1, 1, 0, 1, 0, 1, 1, 0, 0, 1, 1, 1, 1, 1, 1, 1, 0, 0,\n",
              "        1, 1, 0, 0, 1, 0, 0, 1, 1, 0, 0, 0, 1, 0, 0, 0, 0, 0, 0, 0, 1, 1,\n",
              "        0, 1, 0, 1, 1, 0, 0, 1, 1, 1, 1, 0, 0, 1, 0, 1, 1, 0, 1, 0, 0, 1,\n",
              "        0, 0, 1, 1, 0, 1, 0, 0, 1, 0, 0, 0, 1, 0, 0, 1, 1, 1, 1, 1, 0, 1,\n",
              "        0, 0, 1, 0, 0, 0, 1, 1, 1, 1, 1, 1, 1, 1, 0, 0, 0, 1, 1, 0, 1, 0,\n",
              "        0, 0, 0, 0, 1, 0, 1, 1, 0, 0, 1, 0, 1, 1, 0, 0, 0, 1, 1, 0, 0, 1,\n",
              "        0, 1, 0, 1, 0, 0, 0, 1, 1, 0, 1, 1, 0, 1, 0, 0, 1, 1, 1, 0, 0, 0,\n",
              "        1, 1, 1, 1, 0, 0, 1, 0, 0, 0, 1, 0, 1, 0, 0, 0, 0, 1, 1, 0, 0, 1,\n",
              "        1, 0, 0, 0, 0, 1, 1, 1, 1, 0, 0, 0, 0, 1, 1, 0, 0, 0, 1, 0, 0, 0,\n",
              "        1, 0, 0, 1, 0, 1, 1, 0, 0, 1, 1, 1, 1, 1, 1, 0, 1, 0, 1, 1, 1, 0,\n",
              "        1, 1, 0, 1, 0, 0, 0, 1, 1, 1, 1, 1, 0, 0, 0, 0, 0, 1, 1, 0, 1, 1,\n",
              "        1, 1, 1, 0, 0, 0, 0, 0, 0, 1, 1, 0, 0, 0, 1, 0, 1, 1, 0, 1, 0, 1,\n",
              "        1, 0, 0, 0, 0, 0, 1, 1, 0, 0, 0, 1, 1, 0, 0, 0, 0, 1, 1, 1, 1, 1,\n",
              "        0, 0, 0, 1, 1, 0, 1, 0, 0, 1, 1, 1, 0, 1, 0, 1, 1, 0, 0, 0, 0, 0,\n",
              "        0, 0, 1, 1, 0, 1, 1, 1, 0, 0, 0, 1, 1, 1, 0, 0, 1, 1, 0, 1, 0, 1,\n",
              "        0, 0, 0, 1, 0, 0, 1, 1, 0, 1, 1, 1, 0, 0, 1, 1, 0, 0, 0, 0, 0, 1,\n",
              "        1, 0, 1, 0, 1, 1, 1, 0, 1, 1, 1, 0, 0, 0, 0, 1, 1, 1, 0, 0, 1, 0,\n",
              "        1, 1, 1, 1, 1, 1, 1, 1, 0, 0, 0, 0, 0, 0, 1, 0, 0, 0, 0, 0, 1, 0,\n",
              "        0, 0, 1, 0, 0, 0, 0, 1, 1, 1, 0, 1, 1, 1, 1, 0, 1, 0, 1, 0, 0, 1,\n",
              "        0, 0, 1, 1, 1, 1, 1, 0, 1, 0, 0, 1, 1, 0, 1, 1, 0, 0, 1, 1, 1, 0,\n",
              "        0, 1, 1, 1, 0, 0, 0, 1, 1, 0, 0, 0, 0, 0, 1, 1, 1, 0, 1, 0, 0]),\n",
              " array(['libra', 'aries', 'aries', 'aries', 'libra', 'aries', 'aries',\n",
              "        'aries', 'libra', 'libra', 'aries', 'libra', 'libra', 'aries',\n",
              "        'libra', 'aries', 'libra', 'aries', 'aries', 'aries', 'aries',\n",
              "        'aries', 'libra', 'aries', 'aries', 'aries', 'aries', 'libra',\n",
              "        'aries', 'libra', 'aries', 'libra', 'aries', 'libra', 'libra',\n",
              "        'libra', 'aries', 'aries', 'libra', 'libra', 'libra', 'libra',\n",
              "        'libra', 'libra', 'libra', 'aries', 'aries', 'libra', 'libra',\n",
              "        'libra', 'aries', 'aries', 'aries', 'aries', 'aries', 'aries',\n",
              "        'libra', 'aries', 'aries', 'aries', 'aries', 'aries', 'libra',\n",
              "        'aries', 'aries', 'libra', 'aries', 'aries', 'libra', 'aries',\n",
              "        'libra', 'libra', 'libra', 'libra', 'aries', 'libra', 'aries',\n",
              "        'aries', 'aries', 'aries', 'aries', 'libra', 'libra', 'libra',\n",
              "        'libra', 'aries', 'libra', 'libra', 'aries', 'aries', 'aries',\n",
              "        'aries', 'aries', 'aries', 'libra', 'aries', 'libra', 'aries',\n",
              "        'aries', 'libra', 'libra', 'aries', 'aries', 'aries', 'aries',\n",
              "        'aries', 'aries', 'aries', 'libra', 'libra', 'aries', 'aries',\n",
              "        'libra', 'libra', 'aries', 'libra', 'libra', 'aries', 'aries',\n",
              "        'libra', 'libra', 'libra', 'aries', 'libra', 'libra', 'libra',\n",
              "        'libra', 'libra', 'libra', 'libra', 'aries', 'aries', 'libra',\n",
              "        'aries', 'libra', 'aries', 'aries', 'libra', 'libra', 'aries',\n",
              "        'aries', 'aries', 'aries', 'libra', 'libra', 'aries', 'libra',\n",
              "        'aries', 'aries', 'libra', 'aries', 'libra', 'libra', 'aries',\n",
              "        'libra', 'libra', 'aries', 'aries', 'libra', 'aries', 'libra',\n",
              "        'libra', 'aries', 'libra', 'libra', 'libra', 'aries', 'libra',\n",
              "        'libra', 'aries', 'aries', 'aries', 'aries', 'aries', 'libra',\n",
              "        'aries', 'libra', 'libra', 'aries', 'libra', 'libra', 'libra',\n",
              "        'aries', 'aries', 'aries', 'aries', 'aries', 'aries', 'aries',\n",
              "        'aries', 'libra', 'libra', 'libra', 'aries', 'aries', 'libra',\n",
              "        'aries', 'libra', 'libra', 'libra', 'libra', 'libra', 'aries',\n",
              "        'libra', 'aries', 'aries', 'libra', 'libra', 'aries', 'libra',\n",
              "        'aries', 'aries', 'libra', 'libra', 'libra', 'aries', 'aries',\n",
              "        'libra', 'libra', 'aries', 'libra', 'aries', 'libra', 'aries',\n",
              "        'libra', 'libra', 'libra', 'aries', 'aries', 'libra', 'aries',\n",
              "        'aries', 'libra', 'aries', 'libra', 'libra', 'aries', 'aries',\n",
              "        'aries', 'libra', 'libra', 'libra', 'aries', 'aries', 'aries',\n",
              "        'aries', 'libra', 'libra', 'aries', 'libra', 'libra', 'libra',\n",
              "        'aries', 'libra', 'aries', 'libra', 'libra', 'libra', 'libra',\n",
              "        'aries', 'aries', 'libra', 'libra', 'aries', 'aries', 'libra',\n",
              "        'libra', 'libra', 'libra', 'aries', 'aries', 'aries', 'aries',\n",
              "        'libra', 'libra', 'libra', 'libra', 'aries', 'aries', 'libra',\n",
              "        'libra', 'libra', 'aries', 'libra', 'libra', 'libra', 'aries',\n",
              "        'libra', 'libra', 'aries', 'libra', 'aries', 'aries', 'libra',\n",
              "        'libra', 'aries', 'aries', 'aries', 'aries', 'aries', 'aries',\n",
              "        'libra', 'aries', 'libra', 'aries', 'aries', 'aries', 'libra',\n",
              "        'aries', 'aries', 'libra', 'aries', 'libra', 'libra', 'libra',\n",
              "        'aries', 'aries', 'aries', 'aries', 'aries', 'libra', 'libra',\n",
              "        'libra', 'libra', 'libra', 'aries', 'aries', 'libra', 'aries',\n",
              "        'aries', 'aries', 'aries', 'aries', 'libra', 'libra', 'libra',\n",
              "        'libra', 'libra', 'libra', 'aries', 'aries', 'libra', 'libra',\n",
              "        'libra', 'aries', 'libra', 'aries', 'aries', 'libra', 'aries',\n",
              "        'libra', 'aries', 'aries', 'libra', 'libra', 'libra', 'libra',\n",
              "        'libra', 'aries', 'aries', 'libra', 'libra', 'libra', 'aries',\n",
              "        'aries', 'libra', 'libra', 'libra', 'libra', 'aries', 'aries',\n",
              "        'aries', 'aries', 'aries', 'libra', 'libra', 'libra', 'aries',\n",
              "        'aries', 'libra', 'aries', 'libra', 'libra', 'aries', 'aries',\n",
              "        'aries', 'libra', 'aries', 'libra', 'aries', 'aries', 'libra',\n",
              "        'libra', 'libra', 'libra', 'libra', 'libra', 'libra', 'aries',\n",
              "        'aries', 'libra', 'aries', 'aries', 'aries', 'libra', 'libra',\n",
              "        'libra', 'aries', 'aries', 'aries', 'libra', 'libra', 'aries',\n",
              "        'aries', 'libra', 'aries', 'libra', 'aries', 'libra', 'libra',\n",
              "        'libra', 'aries', 'libra', 'libra', 'aries', 'aries', 'libra',\n",
              "        'aries', 'aries', 'aries', 'libra', 'libra', 'aries', 'aries',\n",
              "        'libra', 'libra', 'libra', 'libra', 'libra', 'aries', 'aries',\n",
              "        'libra', 'aries', 'libra', 'aries', 'aries', 'aries', 'libra',\n",
              "        'aries', 'aries', 'aries', 'libra', 'libra', 'libra', 'libra',\n",
              "        'aries', 'aries', 'aries', 'libra', 'libra', 'aries', 'libra',\n",
              "        'aries', 'aries', 'aries', 'aries', 'aries', 'aries', 'aries',\n",
              "        'aries', 'libra', 'libra', 'libra', 'libra', 'libra', 'libra',\n",
              "        'aries', 'libra', 'libra', 'libra', 'libra', 'libra', 'aries',\n",
              "        'libra', 'libra', 'libra', 'aries', 'libra', 'libra', 'libra',\n",
              "        'libra', 'aries', 'aries', 'aries', 'libra', 'aries', 'aries',\n",
              "        'aries', 'aries', 'libra', 'aries', 'libra', 'aries', 'libra',\n",
              "        'libra', 'aries', 'libra', 'libra', 'aries', 'aries', 'aries',\n",
              "        'aries', 'aries', 'libra', 'aries', 'libra', 'libra', 'aries',\n",
              "        'aries', 'libra', 'aries', 'aries', 'libra', 'libra', 'aries',\n",
              "        'aries', 'aries', 'libra', 'libra', 'aries', 'aries', 'aries',\n",
              "        'libra', 'libra', 'libra', 'aries', 'aries', 'libra', 'libra',\n",
              "        'libra', 'libra', 'libra', 'aries', 'aries', 'aries', 'libra',\n",
              "        'aries', 'libra', 'libra'], dtype=object))"
            ]
          },
          "metadata": {},
          "execution_count": 60
        }
      ]
    },
    {
      "cell_type": "code",
      "metadata": {
        "id": "rjHkeH1uJdKF"
      },
      "source": [
        "import time"
      ],
      "execution_count": null,
      "outputs": []
    },
    {
      "cell_type": "code",
      "metadata": {
        "colab": {
          "base_uri": "https://localhost:8080/"
        },
        "id": "2ldCawsMUuVh",
        "outputId": "eed1fc63-4cf6-4fdb-9542-1fdba1b52f7c"
      },
      "source": [
        "tic = time.time()\n",
        "history = model.fit(X_train, y_train_enc,epochs=500,verbose=False,validation_data=(X_test, y_test_enc),batch_size=100)\n",
        "print(\"Time taken:\",time.time() - tic)"
      ],
      "execution_count": null,
      "outputs": [
        {
          "output_type": "stream",
          "name": "stdout",
          "text": [
            "Time taken: 26.625718116760254\n"
          ]
        }
      ]
    },
    {
      "cell_type": "code",
      "metadata": {
        "id": "9QDAcBxchqzB"
      },
      "source": [
        ""
      ],
      "execution_count": null,
      "outputs": []
    },
    {
      "cell_type": "code",
      "metadata": {
        "colab": {
          "base_uri": "https://localhost:8080/",
          "height": 440
        },
        "id": "28bUzti3VUjM",
        "outputId": "2ecb4d04-b866-48fb-cce4-f78d6cd9e525"
      },
      "source": [
        "plt.figure(figsize=(15,6))\n",
        "plt.subplot(1,2,1)\n",
        "plt.plot(history.history['accuracy'])\n",
        "plt.plot(history.history['val_accuracy'])\n",
        "plt.title('model accuracy')\n",
        "plt.ylabel('accuracy')\n",
        "plt.xlabel('epoch')\n",
        "plt.legend(['train', 'val'], loc='upper left')\n",
        "\n",
        "plt.subplot(1,2,2)\n",
        "plt.plot(history.history['loss'])\n",
        "plt.plot(history.history['val_loss'])\n",
        "plt.title('model loss')\n",
        "plt.ylabel('loss')\n",
        "plt.xlabel('epoch')\n",
        "plt.legend(['train', 'val'], loc='upper left')\n",
        "\n",
        "plt.show()\n",
        "\n",
        "\n",
        "loss, accuracy = model.evaluate(X_train, y_train_enc, verbose=False)\n",
        "print(\"Training Accuracy: {:.4f}\".format(accuracy))\n",
        "loss, accuracy = model.evaluate(X_test, y_test_enc, verbose=False)\n",
        "print(\"Testing Accuracy:  {:.4f}\".format(accuracy))"
      ],
      "execution_count": null,
      "outputs": [
        {
          "output_type": "display_data",
          "data": {
            "image/png": "[encoded data removed]",
            "text/plain": [
              "<Figure size 1080x432 with 2 Axes>"
            ]
          },
          "metadata": {
            "needs_background": "light"
          }
        },
        {
          "output_type": "stream",
          "name": "stdout",
          "text": [
            "Training Accuracy: 0.5009\n",
            "Testing Accuracy:  0.5027\n"
          ]
        }
      ]
    },
    {
      "cell_type": "code",
      "metadata": {
        "id": "srbyIQ4nX0Fr"
      },
      "source": [
        ""
      ],
      "execution_count": null,
      "outputs": []
    }
  ]
}