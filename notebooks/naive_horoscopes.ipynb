{
  "nbformat": 4,
  "nbformat_minor": 0,
  "metadata": {
    "colab": {
      "name": "naive_horoscopes.ipynb",
      "provenance": [],
      "collapsed_sections": [],
      "include_colab_link": true
    },
    "kernelspec": {
      "name": "python3",
      "display_name": "Python 3"
    },
    "language_info": {
      "name": "python"
    }
  },
  "cells": [
    {
      "cell_type": "markdown",
      "metadata": {
        "id": "view-in-github",
        "colab_type": "text"
      },
      "source": [
        "<a href=\"https://colab.research.google.com/github/kelseyneis/horoscope-mining/blob/main/naive_horoscopes.ipynb\" target=\"_parent\"><img src=\"https://colab.research.google.com/assets/colab-badge.svg\" alt=\"Open In Colab\"/></a>"
      ]
    },
    {
      "cell_type": "markdown",
      "metadata": {
        "id": "T6bRLu2ybNjP"
      },
      "source": [
        "# CSCI 5523 Final project\n",
        "Mohammed Guiga, Kelsey Neis, Sai Sharan Sundar, Josh Spitzer-Resnick"
      ]
    },
    {
      "cell_type": "code",
      "metadata": {
        "colab": {
          "base_uri": "https://localhost:8080/"
        },
        "id": "tlaCiJ-sB7_N",
        "outputId": "cabde03e-642e-4580-d40d-8731cb2e7513"
      },
      "source": [
        "# mount drive, go to link and paste authorization code so that we can read data from shared drive\n",
        "from google.colab import drive\n",
        "drive.mount('/content/drive')"
      ],
      "execution_count": null,
      "outputs": [
        {
          "output_type": "stream",
          "name": "stdout",
          "text": [
            "Drive already mounted at /content/drive; to attempt to forcibly remount, call drive.mount(\"/content/drive\", force_remount=True).\n"
          ]
        }
      ]
    },
    {
      "cell_type": "code",
      "metadata": {
        "colab": {
          "base_uri": "https://localhost:8080/"
        },
        "id": "pbKn3np47kJW",
        "outputId": "b7de701d-8218-48f7-f9f4-9389f3b0178d"
      },
      "source": [
        "import numpy as np\n",
        "import pandas as pd\n",
        "import seaborn as sns\n",
        "\n",
        "# exploratory analysis\n",
        "import string\n",
        "from wordcloud import WordCloud\n",
        "import nltk\n",
        "from nltk.corpus import stopwords\n",
        "from nltk.tokenize import RegexpTokenizer\n",
        "from nltk.corpus import wordnet\n",
        "from nltk.stem import WordNetLemmatizer \n",
        "\n",
        "nltk.download('punkt')\n",
        "nltk.download('wordnet')\n",
        "nltk.download('stopwords')\n",
        "\n",
        "sns.set_style('darkgrid')"
      ],
      "execution_count": null,
      "outputs": [
        {
          "output_type": "stream",
          "name": "stdout",
          "text": [
            "[nltk_data] Downloading package punkt to /root/nltk_data...\n",
            "[nltk_data]   Package punkt is already up-to-date!\n",
            "[nltk_data] Downloading package wordnet to /root/nltk_data...\n",
            "[nltk_data]   Package wordnet is already up-to-date!\n",
            "[nltk_data] Downloading package stopwords to /root/nltk_data...\n",
            "[nltk_data]   Package stopwords is already up-to-date!\n"
          ]
        }
      ]
    },
    {
      "cell_type": "code",
      "metadata": {
        "colab": {
          "base_uri": "https://localhost:8080/",
          "height": 206
        },
        "id": "EXia1OZIBj3M",
        "outputId": "16394e21-410f-47ba-81e0-5a8040d5812a"
      },
      "source": [
        "df = pd.read_csv('/content/drive/Shareddrives/CSCI 5223 NLP/horoscope_saved.csv')\n",
        "df.head()"
      ],
      "execution_count": null,
      "outputs": [
        {
          "output_type": "execute_result",
          "data": {
            "text/html": [
              "<div>\n",
              "<style scoped>\n",
              "    .dataframe tbody tr th:only-of-type {\n",
              "        vertical-align: middle;\n",
              "    }\n",
              "\n",
              "    .dataframe tbody tr th {\n",
              "        vertical-align: top;\n",
              "    }\n",
              "\n",
              "    .dataframe thead th {\n",
              "        text-align: right;\n",
              "    }\n",
              "</style>\n",
              "<table border=\"1\" class=\"dataframe\">\n",
              "  <thead>\n",
              "    <tr style=\"text-align: right;\">\n",
              "      <th></th>\n",
              "      <th>sign</th>\n",
              "      <th>category</th>\n",
              "      <th>date</th>\n",
              "      <th>horoscope</th>\n",
              "    </tr>\n",
              "  </thead>\n",
              "  <tbody>\n",
              "    <tr>\n",
              "      <th>0</th>\n",
              "      <td>aries</td>\n",
              "      <td>general</td>\n",
              "      <td>20200617</td>\n",
              "      <td>There's a great day ahead of you, Aries. You'l...</td>\n",
              "    </tr>\n",
              "    <tr>\n",
              "      <th>1</th>\n",
              "      <td>aries</td>\n",
              "      <td>general</td>\n",
              "      <td>20200618</td>\n",
              "      <td>People will understand and appreciate your des...</td>\n",
              "    </tr>\n",
              "    <tr>\n",
              "      <th>2</th>\n",
              "      <td>aries</td>\n",
              "      <td>general</td>\n",
              "      <td>20200619</td>\n",
              "      <td>You are very interested in technological break...</td>\n",
              "    </tr>\n",
              "    <tr>\n",
              "      <th>3</th>\n",
              "      <td>aries</td>\n",
              "      <td>general</td>\n",
              "      <td>20200620</td>\n",
              "      <td>Stress from overwork could have you feeling we...</td>\n",
              "    </tr>\n",
              "    <tr>\n",
              "      <th>4</th>\n",
              "      <td>aries</td>\n",
              "      <td>general</td>\n",
              "      <td>20200621</td>\n",
              "      <td>This is a good day to stand up for yourself an...</td>\n",
              "    </tr>\n",
              "  </tbody>\n",
              "</table>\n",
              "</div>"
            ],
            "text/plain": [
              "    sign category      date                                          horoscope\n",
              "0  aries  general  20200617  There's a great day ahead of you, Aries. You'l...\n",
              "1  aries  general  20200618  People will understand and appreciate your des...\n",
              "2  aries  general  20200619  You are very interested in technological break...\n",
              "3  aries  general  20200620  Stress from overwork could have you feeling we...\n",
              "4  aries  general  20200621  This is a good day to stand up for yourself an..."
            ]
          },
          "metadata": {},
          "execution_count": 3
        }
      ]
    },
    {
      "cell_type": "markdown",
      "metadata": {
        "id": "ol24ZCg2f1Sq"
      },
      "source": [
        "## Data Cleaning"
      ]
    },
    {
      "cell_type": "code",
      "metadata": {
        "id": "hDecuYUQCfd6"
      },
      "source": [
        "signs = ['aries', 'taurus', 'gemini', 'cancer', 'leo', 'virgo', 'libra', 'scorpio', 'sagittarius', 'capricorn', 'aquarius', 'pisces']\n",
        "categories = ['general', 'love', 'career', 'wellness', 'birthday']\n",
        "elements = ['fire', 'earth', 'air', 'water']\n",
        "fire = ['aries', 'leo', 'sagittarius']\n",
        "earth = ['taurus', 'virgo', 'capricorn']\n",
        "air = ['gemini', 'libra', 'aquarius']\n",
        "water = ['cancer', 'scorpio', 'pisces']\n",
        "months = ['january', 'february', 'march', 'april', 'may', 'june', 'july', 'august', 'september', 'october', 'november', 'december']\n",
        "\n",
        "all_general = df[df['category'] == 'general']['horoscope']\n",
        "all_love = df[df['category'] == 'love']['horoscope']\n",
        "all_career = df[df['category'] == 'career']['horoscope']\n",
        "all_wellness = df[df['category'] == 'wellness']['horoscope']\n",
        "all_birthday = df[df['category'] == 'birthday']['horoscope'] # wordcloud gives 2 grams for birthday, sometimes for love\n",
        "\n",
        "\n",
        "words_to_remove = []\n",
        "words_to_remove.extend(signs)\n",
        "words_to_remove.extend(months)"
      ],
      "execution_count": null,
      "outputs": []
    },
    {
      "cell_type": "code",
      "metadata": {
        "id": "OsJFr7pH_EFj"
      },
      "source": [
        "# remove punctuation\n",
        "def remove_punctuation(text):\n",
        "  no_punct = \"\".join([c for c in text if c not in string.punctuation])\n",
        "  return no_punct\n",
        "\n",
        "# tokenize horoscopes\n",
        "tokenizer = RegexpTokenizer(r'\\w+')\n",
        "\n",
        "\"\"\"\n",
        "# helper for get_lemmas\n",
        "def get_wordnet_pos(word): # from https://www.machinelearningplus.com/nlp/lemmatization-examples-python/\n",
        "    Map POS tag to first character lemmatize() accepts\n",
        "    tag = nltk.pos_tag([word])[0][1][0].upper()\n",
        "    tag_dict = {\"J\": wordnet.ADJ,\n",
        "                \"N\": wordnet.NOUN,\n",
        "                \"V\": wordnet.VERB,\n",
        "                \"R\": wordnet.ADV}\n",
        "\n",
        "    return tag_dict.get(tag, wordnet.NOUN)\n",
        "\"\"\"\n",
        "\n",
        "# Init the Wordnet Lemmatizer # adapted from https://www.machinelearningplus.com/nlp/lemmatization-examples-python/\n",
        "lemmatizer = WordNetLemmatizer()\n",
        "def get_lemmas(text): # needs sentence input, not list of words\n",
        "  # lemmatized_output = ' '.join([lemmatizer.lemmatize(w) for w in text]) # ' '.join([lemmatizer.lemmatize(w) for w in word_list])\n",
        "  lemmatized_output = [lemmatizer.lemmatize(w) for w in nltk.word_tokenize(text)] # [lemmatizer.lemmatize(w, get_wordnet_pos(w)) for w in nltk.word_tokenize(text)]\n",
        "  \"\"\"\n",
        "  lem = []\n",
        "  for w in text:\n",
        "    lem.append([wi for wi in map(lemmatizer.lemmatize, w)]) # adapted from https://stackoverflow.com/questions/52860350/how-to-find-the-lemmas-and-frequency-count-of-each-word-in-list-of-sentences-in\n",
        "  \"\"\"\n",
        "  return lemmatized_output # lem\n",
        "  # [lemmatizer.lemmatize(w, get_wordnet_pos(w)) for w in nltk.word_tokenize(sentence)]\n",
        "\n",
        "# remove stopwords\n",
        "def remove_stopwords(text):\n",
        "  words = [w for w in text if w not in stopwords.words('english')]\n",
        "  return words\n",
        "\n",
        "# remove sign indicators\n",
        "def remove_sign_indicators(text):\n",
        "  doc = [value for value in text if value not in words_to_remove]\n",
        "  return doc"
      ],
      "execution_count": null,
      "outputs": []
    },
    {
      "cell_type": "code",
      "metadata": {
        "id": "W4oc-0v1_G_I"
      },
      "source": [
        "def preprocess(df):\n",
        "  df = df.apply(lambda x: remove_punctuation(x))\n",
        "  # df = df.apply(lambda x: tokenizer.tokenize(x.lower()))\n",
        "  df = df.apply(lambda x: x.lower())\n",
        "  \n",
        "  # df = df.apply(lambda x: lemmatizer.lemmatize(x)) # needs text, not list\n",
        "  # Make tokens a string again\n",
        "  # df = [' '.join(map(str, l)) for l in df] # adapted from https://towardsdatascience.com/twitter-topic-modeling-e0e3315b12e2\n",
        "  df = df.apply(lambda x: get_lemmas(x)) # ''.join(x)) # takes much longer # don't tokenize before lemmatize?\n",
        "  \n",
        "  df = df.apply(lambda x: remove_stopwords(x)) # takes longer\n",
        "\n",
        "  df = df.apply(lambda x: remove_sign_indicators(x))\n",
        "  return df"
      ],
      "execution_count": null,
      "outputs": []
    },
    {
      "cell_type": "code",
      "metadata": {
        "id": "4It0irZU_MRz"
      },
      "source": [
        "df['processed_tokens'] = preprocess(df['horoscope']) # takes ~3min on all_horoscopes"
      ],
      "execution_count": null,
      "outputs": []
    },
    {
      "cell_type": "code",
      "metadata": {
        "id": "dlqfqh9p_Wi5"
      },
      "source": [
        "# make tokens a string again\n",
        "df['processed_horoscope'] = [' '.join(map(str, l)) for l in df['processed_tokens']]"
      ],
      "execution_count": null,
      "outputs": []
    },
    {
      "cell_type": "code",
      "metadata": {
        "colab": {
          "base_uri": "https://localhost:8080/"
        },
        "id": "WN9hZb_wBvsi",
        "outputId": "9babbaa9-3dc0-4b84-8c78-8a372879910d"
      },
      "source": [
        "df.columns"
      ],
      "execution_count": null,
      "outputs": [
        {
          "output_type": "execute_result",
          "data": {
            "text/plain": [
              "Index(['sign', 'category', 'date', 'horoscope', 'processed_tokens',\n",
              "       'processed_horoscope'],\n",
              "      dtype='object')"
            ]
          },
          "metadata": {},
          "execution_count": 9
        }
      ]
    },
    {
      "cell_type": "code",
      "metadata": {
        "colab": {
          "base_uri": "https://localhost:8080/",
          "height": 432
        },
        "id": "nvR-CzI2DN-Z",
        "outputId": "754a8e78-63e9-41a8-da68-9f36a2140096"
      },
      "source": [
        "df.head()"
      ],
      "execution_count": null,
      "outputs": [
        {
          "output_type": "execute_result",
          "data": {
            "text/html": [
              "<div>\n",
              "<style scoped>\n",
              "    .dataframe tbody tr th:only-of-type {\n",
              "        vertical-align: middle;\n",
              "    }\n",
              "\n",
              "    .dataframe tbody tr th {\n",
              "        vertical-align: top;\n",
              "    }\n",
              "\n",
              "    .dataframe thead th {\n",
              "        text-align: right;\n",
              "    }\n",
              "</style>\n",
              "<table border=\"1\" class=\"dataframe\">\n",
              "  <thead>\n",
              "    <tr style=\"text-align: right;\">\n",
              "      <th></th>\n",
              "      <th>sign</th>\n",
              "      <th>category</th>\n",
              "      <th>date</th>\n",
              "      <th>horoscope</th>\n",
              "      <th>processed_tokens</th>\n",
              "      <th>processed_horoscope</th>\n",
              "    </tr>\n",
              "  </thead>\n",
              "  <tbody>\n",
              "    <tr>\n",
              "      <th>0</th>\n",
              "      <td>aries</td>\n",
              "      <td>general</td>\n",
              "      <td>20200617</td>\n",
              "      <td>There's a great day ahead of you, Aries. You'l...</td>\n",
              "      <td>[great, day, ahead, youll, blessed, ability, s...</td>\n",
              "      <td>great day ahead youll blessed ability solve pr...</td>\n",
              "    </tr>\n",
              "    <tr>\n",
              "      <th>1</th>\n",
              "      <td>aries</td>\n",
              "      <td>general</td>\n",
              "      <td>20200618</td>\n",
              "      <td>People will understand and appreciate your des...</td>\n",
              "      <td>[people, understand, appreciate, desire, stand...</td>\n",
              "      <td>people understand appreciate desire stand crow...</td>\n",
              "    </tr>\n",
              "    <tr>\n",
              "      <th>2</th>\n",
              "      <td>aries</td>\n",
              "      <td>general</td>\n",
              "      <td>20200619</td>\n",
              "      <td>You are very interested in technological break...</td>\n",
              "      <td>[interested, technological, breakthrough, inno...</td>\n",
              "      <td>interested technological breakthrough innovati...</td>\n",
              "    </tr>\n",
              "    <tr>\n",
              "      <th>3</th>\n",
              "      <td>aries</td>\n",
              "      <td>general</td>\n",
              "      <td>20200620</td>\n",
              "      <td>Stress from overwork could have you feeling we...</td>\n",
              "      <td>[stress, overwork, could, feeling, weaker, usu...</td>\n",
              "      <td>stress overwork could feeling weaker usual mig...</td>\n",
              "    </tr>\n",
              "    <tr>\n",
              "      <th>4</th>\n",
              "      <td>aries</td>\n",
              "      <td>general</td>\n",
              "      <td>20200621</td>\n",
              "      <td>This is a good day to stand up for yourself an...</td>\n",
              "      <td>[good, day, stand, make, known, arent, pushove...</td>\n",
              "      <td>good day stand make known arent pushover use p...</td>\n",
              "    </tr>\n",
              "  </tbody>\n",
              "</table>\n",
              "</div>"
            ],
            "text/plain": [
              "    sign  ...                                processed_horoscope\n",
              "0  aries  ...  great day ahead youll blessed ability solve pr...\n",
              "1  aries  ...  people understand appreciate desire stand crow...\n",
              "2  aries  ...  interested technological breakthrough innovati...\n",
              "3  aries  ...  stress overwork could feeling weaker usual mig...\n",
              "4  aries  ...  good day stand make known arent pushover use p...\n",
              "\n",
              "[5 rows x 6 columns]"
            ]
          },
          "metadata": {},
          "execution_count": 10
        }
      ]
    },
    {
      "cell_type": "code",
      "metadata": {
        "colab": {
          "base_uri": "https://localhost:8080/"
        },
        "id": "pGHv-JuNDe7m",
        "outputId": "4f05b660-978a-4001-efe8-d3e0f9e1732c"
      },
      "source": [
        "df.info()"
      ],
      "execution_count": null,
      "outputs": [
        {
          "output_type": "stream",
          "name": "stdout",
          "text": [
            "<class 'pandas.core.frame.DataFrame'>\n",
            "RangeIndex: 21959 entries, 0 to 21958\n",
            "Data columns (total 6 columns):\n",
            " #   Column               Non-Null Count  Dtype \n",
            "---  ------               --------------  ----- \n",
            " 0   sign                 21959 non-null  object\n",
            " 1   category             21959 non-null  object\n",
            " 2   date                 21959 non-null  int64 \n",
            " 3   horoscope            21959 non-null  object\n",
            " 4   processed_tokens     21959 non-null  object\n",
            " 5   processed_horoscope  21959 non-null  object\n",
            "dtypes: int64(1), object(5)\n",
            "memory usage: 1.0+ MB\n"
          ]
        }
      ]
    },
    {
      "cell_type": "code",
      "metadata": {
        "id": "9eo7CYDtDnmM"
      },
      "source": [
        "df['horoscope_length'] = df['horoscope'].apply(len)\n",
        "df['p_horoscope_length'] = df['processed_horoscope'].apply(len)\n",
        "df['num_words_removed'] = df['horoscope_length'] - df['p_horoscope_length']"
      ],
      "execution_count": null,
      "outputs": []
    },
    {
      "cell_type": "code",
      "metadata": {
        "colab": {
          "base_uri": "https://localhost:8080/",
          "height": 539
        },
        "id": "Auq80keoD8gY",
        "outputId": "37e8cad1-2d72-43cd-a1ee-f998246ffa6b"
      },
      "source": [
        "df.head()"
      ],
      "execution_count": null,
      "outputs": [
        {
          "output_type": "execute_result",
          "data": {
            "text/html": [
              "<div>\n",
              "<style scoped>\n",
              "    .dataframe tbody tr th:only-of-type {\n",
              "        vertical-align: middle;\n",
              "    }\n",
              "\n",
              "    .dataframe tbody tr th {\n",
              "        vertical-align: top;\n",
              "    }\n",
              "\n",
              "    .dataframe thead th {\n",
              "        text-align: right;\n",
              "    }\n",
              "</style>\n",
              "<table border=\"1\" class=\"dataframe\">\n",
              "  <thead>\n",
              "    <tr style=\"text-align: right;\">\n",
              "      <th></th>\n",
              "      <th>sign</th>\n",
              "      <th>category</th>\n",
              "      <th>date</th>\n",
              "      <th>horoscope</th>\n",
              "      <th>processed_tokens</th>\n",
              "      <th>processed_horoscope</th>\n",
              "      <th>horoscope_length</th>\n",
              "      <th>p_horoscope_length</th>\n",
              "      <th>num_words_removed</th>\n",
              "    </tr>\n",
              "  </thead>\n",
              "  <tbody>\n",
              "    <tr>\n",
              "      <th>0</th>\n",
              "      <td>aries</td>\n",
              "      <td>general</td>\n",
              "      <td>20200617</td>\n",
              "      <td>There's a great day ahead of you, Aries. You'l...</td>\n",
              "      <td>[great, day, ahead, youll, blessed, ability, s...</td>\n",
              "      <td>great day ahead youll blessed ability solve pr...</td>\n",
              "      <td>345</td>\n",
              "      <td>206</td>\n",
              "      <td>139</td>\n",
              "    </tr>\n",
              "    <tr>\n",
              "      <th>1</th>\n",
              "      <td>aries</td>\n",
              "      <td>general</td>\n",
              "      <td>20200618</td>\n",
              "      <td>People will understand and appreciate your des...</td>\n",
              "      <td>[people, understand, appreciate, desire, stand...</td>\n",
              "      <td>people understand appreciate desire stand crow...</td>\n",
              "      <td>409</td>\n",
              "      <td>244</td>\n",
              "      <td>165</td>\n",
              "    </tr>\n",
              "    <tr>\n",
              "      <th>2</th>\n",
              "      <td>aries</td>\n",
              "      <td>general</td>\n",
              "      <td>20200619</td>\n",
              "      <td>You are very interested in technological break...</td>\n",
              "      <td>[interested, technological, breakthrough, inno...</td>\n",
              "      <td>interested technological breakthrough innovati...</td>\n",
              "      <td>337</td>\n",
              "      <td>211</td>\n",
              "      <td>126</td>\n",
              "    </tr>\n",
              "    <tr>\n",
              "      <th>3</th>\n",
              "      <td>aries</td>\n",
              "      <td>general</td>\n",
              "      <td>20200620</td>\n",
              "      <td>Stress from overwork could have you feeling we...</td>\n",
              "      <td>[stress, overwork, could, feeling, weaker, usu...</td>\n",
              "      <td>stress overwork could feeling weaker usual mig...</td>\n",
              "      <td>393</td>\n",
              "      <td>219</td>\n",
              "      <td>174</td>\n",
              "    </tr>\n",
              "    <tr>\n",
              "      <th>4</th>\n",
              "      <td>aries</td>\n",
              "      <td>general</td>\n",
              "      <td>20200621</td>\n",
              "      <td>This is a good day to stand up for yourself an...</td>\n",
              "      <td>[good, day, stand, make, known, arent, pushove...</td>\n",
              "      <td>good day stand make known arent pushover use p...</td>\n",
              "      <td>348</td>\n",
              "      <td>196</td>\n",
              "      <td>152</td>\n",
              "    </tr>\n",
              "  </tbody>\n",
              "</table>\n",
              "</div>"
            ],
            "text/plain": [
              "    sign category  ...  p_horoscope_length num_words_removed\n",
              "0  aries  general  ...                 206               139\n",
              "1  aries  general  ...                 244               165\n",
              "2  aries  general  ...                 211               126\n",
              "3  aries  general  ...                 219               174\n",
              "4  aries  general  ...                 196               152\n",
              "\n",
              "[5 rows x 9 columns]"
            ]
          },
          "metadata": {},
          "execution_count": 13
        }
      ]
    },
    {
      "cell_type": "code",
      "metadata": {
        "colab": {
          "base_uri": "https://localhost:8080/",
          "height": 313
        },
        "id": "8j67pmXgD9m7",
        "outputId": "7ec29f2f-b33e-4980-d107-bef7cea63622"
      },
      "source": [
        "sns.histplot(x='num_words_removed', data=df).set_title(\"Number of Words Removed\")"
      ],
      "execution_count": null,
      "outputs": [
        {
          "output_type": "execute_result",
          "data": {
            "text/plain": [
              "Text(0.5, 1.0, 'Number of Words Removed')"
            ]
          },
          "metadata": {},
          "execution_count": 14
        },
        {
          "output_type": "display_data",
          "data": {
            "image/png": "[encoded data removed]",
            "text/plain": [
              "<Figure size 432x288 with 1 Axes>"
            ]
          },
          "metadata": {}
        }
      ]
    },
    {
      "cell_type": "markdown",
      "metadata": {
        "id": "m0arPdtEFMeM"
      },
      "source": [
        "Categorical --> Numeric"
      ]
    },
    {
      "cell_type": "code",
      "metadata": {
        "id": "BBtQ3607FN7F"
      },
      "source": [
        "df['sign'] = df['sign'].astype('category')\n",
        "df['category'] = df['category'].astype('category')\n"
      ],
      "execution_count": null,
      "outputs": []
    },
    {
      "cell_type": "code",
      "metadata": {
        "colab": {
          "base_uri": "https://localhost:8080/"
        },
        "id": "N7WGdiEhGFzn",
        "outputId": "a77b46f2-83c8-497f-abbf-7ff51af5e24e"
      },
      "source": [
        "# signs = dict(enumerate(df['sign'].cat.categories))\n",
        "# originally encoded them automatically, but there is a sort of 'order' so manually encode\n",
        "signs = {\n",
        "'capricorn': 0,\n",
        "'aquarius': 1,\n",
        "'pisces': 2,\n",
        "'aries': 3,\n",
        "'taurus': 4,\n",
        "'gemini': 5,\n",
        "'cancer': 6,\n",
        "'leo': 7,\n",
        "'virgo': 8,\n",
        "'libra': 9,\n",
        "'scorpio': 10,\n",
        "'sagittarius': 11,\n",
        "}\n",
        "\n",
        "# encode automatically since not ordinal\n",
        "categories = dict(enumerate(df['category'].cat.categories))\n",
        "\n",
        "# print categories nicely\n",
        "print(categories)"
      ],
      "execution_count": null,
      "outputs": [
        {
          "output_type": "stream",
          "name": "stdout",
          "text": [
            "{0: 'birthday', 1: 'career', 2: 'general', 3: 'love', 4: 'wellness'}\n"
          ]
        }
      ]
    },
    {
      "cell_type": "code",
      "metadata": {
        "id": "5UQNo6QEGYfr"
      },
      "source": [
        "df['sign'] = df['sign'].replace(signs)\n",
        "df['category'] = df['category'].cat.codes"
      ],
      "execution_count": null,
      "outputs": []
    },
    {
      "cell_type": "code",
      "metadata": {
        "colab": {
          "base_uri": "https://localhost:8080/",
          "height": 539
        },
        "id": "i6xpoYSbFcx6",
        "outputId": "e2990098-d91d-4eaa-be15-00ca352cbc79"
      },
      "source": [
        "df.head()"
      ],
      "execution_count": null,
      "outputs": [
        {
          "output_type": "execute_result",
          "data": {
            "text/html": [
              "<div>\n",
              "<style scoped>\n",
              "    .dataframe tbody tr th:only-of-type {\n",
              "        vertical-align: middle;\n",
              "    }\n",
              "\n",
              "    .dataframe tbody tr th {\n",
              "        vertical-align: top;\n",
              "    }\n",
              "\n",
              "    .dataframe thead th {\n",
              "        text-align: right;\n",
              "    }\n",
              "</style>\n",
              "<table border=\"1\" class=\"dataframe\">\n",
              "  <thead>\n",
              "    <tr style=\"text-align: right;\">\n",
              "      <th></th>\n",
              "      <th>sign</th>\n",
              "      <th>category</th>\n",
              "      <th>date</th>\n",
              "      <th>horoscope</th>\n",
              "      <th>processed_tokens</th>\n",
              "      <th>processed_horoscope</th>\n",
              "      <th>horoscope_length</th>\n",
              "      <th>p_horoscope_length</th>\n",
              "      <th>num_words_removed</th>\n",
              "    </tr>\n",
              "  </thead>\n",
              "  <tbody>\n",
              "    <tr>\n",
              "      <th>0</th>\n",
              "      <td>3</td>\n",
              "      <td>2</td>\n",
              "      <td>20200617</td>\n",
              "      <td>There's a great day ahead of you, Aries. You'l...</td>\n",
              "      <td>[great, day, ahead, youll, blessed, ability, s...</td>\n",
              "      <td>great day ahead youll blessed ability solve pr...</td>\n",
              "      <td>345</td>\n",
              "      <td>206</td>\n",
              "      <td>139</td>\n",
              "    </tr>\n",
              "    <tr>\n",
              "      <th>1</th>\n",
              "      <td>3</td>\n",
              "      <td>2</td>\n",
              "      <td>20200618</td>\n",
              "      <td>People will understand and appreciate your des...</td>\n",
              "      <td>[people, understand, appreciate, desire, stand...</td>\n",
              "      <td>people understand appreciate desire stand crow...</td>\n",
              "      <td>409</td>\n",
              "      <td>244</td>\n",
              "      <td>165</td>\n",
              "    </tr>\n",
              "    <tr>\n",
              "      <th>2</th>\n",
              "      <td>3</td>\n",
              "      <td>2</td>\n",
              "      <td>20200619</td>\n",
              "      <td>You are very interested in technological break...</td>\n",
              "      <td>[interested, technological, breakthrough, inno...</td>\n",
              "      <td>interested technological breakthrough innovati...</td>\n",
              "      <td>337</td>\n",
              "      <td>211</td>\n",
              "      <td>126</td>\n",
              "    </tr>\n",
              "    <tr>\n",
              "      <th>3</th>\n",
              "      <td>3</td>\n",
              "      <td>2</td>\n",
              "      <td>20200620</td>\n",
              "      <td>Stress from overwork could have you feeling we...</td>\n",
              "      <td>[stress, overwork, could, feeling, weaker, usu...</td>\n",
              "      <td>stress overwork could feeling weaker usual mig...</td>\n",
              "      <td>393</td>\n",
              "      <td>219</td>\n",
              "      <td>174</td>\n",
              "    </tr>\n",
              "    <tr>\n",
              "      <th>4</th>\n",
              "      <td>3</td>\n",
              "      <td>2</td>\n",
              "      <td>20200621</td>\n",
              "      <td>This is a good day to stand up for yourself an...</td>\n",
              "      <td>[good, day, stand, make, known, arent, pushove...</td>\n",
              "      <td>good day stand make known arent pushover use p...</td>\n",
              "      <td>348</td>\n",
              "      <td>196</td>\n",
              "      <td>152</td>\n",
              "    </tr>\n",
              "  </tbody>\n",
              "</table>\n",
              "</div>"
            ],
            "text/plain": [
              "   sign  category  ...  p_horoscope_length num_words_removed\n",
              "0     3         2  ...                 206               139\n",
              "1     3         2  ...                 244               165\n",
              "2     3         2  ...                 211               126\n",
              "3     3         2  ...                 219               174\n",
              "4     3         2  ...                 196               152\n",
              "\n",
              "[5 rows x 9 columns]"
            ]
          },
          "metadata": {},
          "execution_count": 18
        }
      ]
    },
    {
      "cell_type": "markdown",
      "metadata": {
        "id": "E8fgg4DII9bV"
      },
      "source": [
        "## Naive bayes approach"
      ]
    },
    {
      "cell_type": "markdown",
      "metadata": {
        "id": "ino8Cp7UgyXC"
      },
      "source": [
        "This approach was for a binary text classification problem. Our problem is not binary, so this method may not be appropriate."
      ]
    },
    {
      "cell_type": "code",
      "metadata": {
        "id": "6YbEJcJwDszm"
      },
      "source": [
        "# implementing bag of words\n",
        "from sklearn.feature_extraction.text import CountVectorizer\n",
        "count_vector = CountVectorizer()"
      ],
      "execution_count": null,
      "outputs": []
    },
    {
      "cell_type": "code",
      "metadata": {
        "id": "aRbFRZ_9EJ-0"
      },
      "source": [
        "horoscopes = list(df['processed_horoscope'])"
      ],
      "execution_count": null,
      "outputs": []
    },
    {
      "cell_type": "code",
      "metadata": {
        "colab": {
          "base_uri": "https://localhost:8080/"
        },
        "id": "13BiODu2D2vZ",
        "outputId": "dbcfedb5-cc42-4996-e403-7dcb62a5422e"
      },
      "source": [
        "count_vector.fit(horoscopes)\n",
        "# count_vector.get_feature_names()"
      ],
      "execution_count": null,
      "outputs": [
        {
          "output_type": "execute_result",
          "data": {
            "text/plain": [
              "CountVectorizer()"
            ]
          },
          "metadata": {},
          "execution_count": 21
        }
      ]
    },
    {
      "cell_type": "code",
      "metadata": {
        "colab": {
          "base_uri": "https://localhost:8080/"
        },
        "id": "KXO2eZoTEYzd",
        "outputId": "119572a4-0e58-4afa-ba11-df7a826336c3"
      },
      "source": [
        "doc_array = count_vector.transform(horoscopes).toarray()\n",
        "doc_array"
      ],
      "execution_count": null,
      "outputs": [
        {
          "output_type": "execute_result",
          "data": {
            "text/plain": [
              "array([[0, 0, 0, ..., 0, 0, 0],\n",
              "       [0, 0, 0, ..., 0, 0, 0],\n",
              "       [0, 0, 0, ..., 0, 0, 0],\n",
              "       ...,\n",
              "       [0, 0, 0, ..., 0, 0, 0],\n",
              "       [0, 0, 0, ..., 0, 0, 0],\n",
              "       [0, 0, 0, ..., 0, 0, 0]])"
            ]
          },
          "metadata": {},
          "execution_count": 22
        }
      ]
    },
    {
      "cell_type": "code",
      "metadata": {
        "colab": {
          "base_uri": "https://localhost:8080/"
        },
        "id": "OZkAbMqsEc5M",
        "outputId": "45e47682-7358-4dd2-ce37-05c6635fac4d"
      },
      "source": [
        "frequency_matrix = pd.DataFrame(doc_array, columns = count_vector.get_feature_names())\n"
      ],
      "execution_count": null,
      "outputs": [
        {
          "output_type": "stream",
          "name": "stderr",
          "text": [
            "/usr/local/lib/python3.7/dist-packages/sklearn/utils/deprecation.py:87: FutureWarning: Function get_feature_names is deprecated; get_feature_names is deprecated in 1.0 and will be removed in 1.2. Please use get_feature_names_out instead.\n",
            "  warnings.warn(msg, category=FutureWarning)\n"
          ]
        }
      ]
    },
    {
      "cell_type": "code",
      "metadata": {
        "id": "dNJLp33WEkEp"
      },
      "source": [
        "from sklearn.model_selection import train_test_split\n",
        "\n",
        "X_train, X_test, y_train, y_test = train_test_split(df['processed_horoscope'], \n",
        "                                                    df['sign'],test_size=0.20, \n",
        "                                                    random_state=1)"
      ],
      "execution_count": null,
      "outputs": []
    },
    {
      "cell_type": "code",
      "metadata": {
        "id": "-ZHYGRAcFJZ6"
      },
      "source": [
        "# Instantiate the CountVectorizer method\n",
        "count_vector = CountVectorizer()\n",
        "\n",
        "# Fit the training data and then return the matrix\n",
        "training_data = count_vector.fit_transform(X_train)\n",
        "\n",
        "# Transform testing data and return the matrix. \n",
        "testing_data = count_vector.transform(X_test)"
      ],
      "execution_count": null,
      "outputs": []
    },
    {
      "cell_type": "code",
      "metadata": {
        "colab": {
          "base_uri": "https://localhost:8080/"
        },
        "id": "rE69vU7JFOl_",
        "outputId": "1d862835-7c71-4bb3-8689-a9386c0a3866"
      },
      "source": [
        "print (training_data.shape)"
      ],
      "execution_count": null,
      "outputs": [
        {
          "output_type": "stream",
          "name": "stdout",
          "text": [
            "(17567, 11824)\n"
          ]
        }
      ]
    },
    {
      "cell_type": "code",
      "metadata": {
        "colab": {
          "base_uri": "https://localhost:8080/"
        },
        "id": "AA9IseFgFQaR",
        "outputId": "e188a998-14ae-4d3a-f5a1-0eaa8cab12a2"
      },
      "source": [
        "print (testing_data.shape)"
      ],
      "execution_count": null,
      "outputs": [
        {
          "output_type": "stream",
          "name": "stdout",
          "text": [
            "(4392, 11824)\n"
          ]
        }
      ]
    },
    {
      "cell_type": "code",
      "metadata": {
        "colab": {
          "base_uri": "https://localhost:8080/"
        },
        "id": "zsHJw1veFSPq",
        "outputId": "7703f631-8a42-4ddb-9d66-ce25f469bdf4"
      },
      "source": [
        "from sklearn.naive_bayes import MultinomialNB\n",
        "naive_bayes = MultinomialNB()\n",
        "naive_bayes.fit(training_data,y_train)"
      ],
      "execution_count": null,
      "outputs": [
        {
          "output_type": "execute_result",
          "data": {
            "text/plain": [
              "MultinomialNB()"
            ]
          },
          "metadata": {},
          "execution_count": 27
        }
      ]
    },
    {
      "cell_type": "code",
      "metadata": {
        "id": "DILQeI6tFVoo"
      },
      "source": [
        "#Make prediction on test dataset\n",
        "predictions = naive_bayes.predict(testing_data.toarray())"
      ],
      "execution_count": null,
      "outputs": []
    },
    {
      "cell_type": "code",
      "metadata": {
        "colab": {
          "base_uri": "https://localhost:8080/"
        },
        "id": "L378ms4AFXeg",
        "outputId": "fca9b8d9-e8ad-445d-9e0b-657def5e7f51"
      },
      "source": [
        "from sklearn.metrics import accuracy_score, precision_score, recall_score, f1_score\n",
        "print('Accuracy score: {}'.format(accuracy_score(y_test, predictions)))\n",
        "print('Precision score: {}'.format(precision_score(y_test, predictions, average='micro')))\n",
        "print('Recall score: {}'.format(recall_score(y_test, predictions, average='micro')))\n",
        "print('F1 score: {}'.format(f1_score(y_test, predictions, average='micro')))"
      ],
      "execution_count": null,
      "outputs": [
        {
          "output_type": "stream",
          "name": "stdout",
          "text": [
            "Accuracy score: 0.05145719489981785\n",
            "Precision score: 0.05145719489981785\n",
            "Recall score: 0.05145719489981785\n",
            "F1 score: 0.05145719489981785\n"
          ]
        }
      ]
    },
    {
      "cell_type": "markdown",
      "metadata": {
        "id": "nTAOT8I7IUoq"
      },
      "source": [
        "## Multi-Class Text Classification"
      ]
    },
    {
      "cell_type": "markdown",
      "metadata": {
        "id": "786hIiu_iRee"
      },
      "source": [
        "https://towardsdatascience.com/multi-class-text-classification-with-scikit-learn-12f1e60e0a9f"
      ]
    },
    {
      "cell_type": "markdown",
      "metadata": {
        "id": "9ZSuAN1XhgDB"
      },
      "source": [
        "Term Frequency, Inverse Document Frequency\n",
        "\n"
      ]
    },
    {
      "cell_type": "code",
      "metadata": {
        "colab": {
          "base_uri": "https://localhost:8080/"
        },
        "id": "Yk7csE5BFZtd",
        "outputId": "f2f146ca-1596-49da-bc01-8fb2da23b923"
      },
      "source": [
        "from sklearn.feature_extraction.text import TfidfVectorizer\n",
        "\n",
        "# min_df: min number of documents a word must be present in to be kept\n",
        "# don't need stop words since data is already processed\n",
        "tfidf = TfidfVectorizer(sublinear_tf=True, min_df=100, norm='l2', ngram_range=(1, 2))\n",
        "features = tfidf.fit_transform(df['processed_horoscope']).toarray()\n",
        "labels = df['sign']\n",
        "features.shape"
      ],
      "execution_count": null,
      "outputs": [
        {
          "output_type": "execute_result",
          "data": {
            "text/plain": [
              "(21959, 1386)"
            ]
          },
          "metadata": {},
          "execution_count": 34
        }
      ]
    },
    {
      "cell_type": "code",
      "metadata": {
        "colab": {
          "base_uri": "https://localhost:8080/",
          "height": 856
        },
        "id": "F4NhKybWjJMd",
        "outputId": "54b3b4cb-f5e6-437c-f088-b5b4c417e53c"
      },
      "source": [
        "from sklearn.linear_model import LogisticRegression\n",
        "from sklearn.ensemble import RandomForestClassifier\n",
        "from sklearn.svm import LinearSVC\n",
        "from sklearn.model_selection import cross_val_score\n",
        "import matplotlib.pyplot as plt\n",
        "\n",
        "models = [\n",
        "    RandomForestClassifier(n_estimators=200, max_depth=3, random_state=0),\n",
        "    LinearSVC(),\n",
        "    MultinomialNB(),\n",
        "    LogisticRegression(random_state=0),\n",
        "]\n",
        "\n",
        "CV = 5\n",
        "cv_df = pd.DataFrame(index=range(CV * len(models)))\n",
        "entries = []\n",
        "for model in models:\n",
        "  model_name = model.__class__.__name__\n",
        "  accuracies = cross_val_score(model, features, labels, scoring='accuracy', cv=CV)\n",
        "  for fold_idx, accuracy in enumerate(accuracies):\n",
        "    entries.append((model_name, fold_idx, accuracy))\n",
        "\n",
        "cv_df = pd.DataFrame(entries, columns=['model_name', 'fold_idx', 'accuracy'])\n",
        "\n",
        "\n",
        "sns.boxplot(x='model_name', y='accuracy', data=cv_df)\n",
        "sns.stripplot(x='model_name', y='accuracy', data=cv_df, \n",
        "              size=8, jitter=True, edgecolor=\"gray\", linewidth=2)\n",
        "plt.show()"
      ],
      "execution_count": null,
      "outputs": [
        {
          "output_type": "stream",
          "name": "stderr",
          "text": [
            "/usr/local/lib/python3.7/dist-packages/sklearn/linear_model/_logistic.py:818: ConvergenceWarning: lbfgs failed to converge (status=1):\n",
            "STOP: TOTAL NO. of ITERATIONS REACHED LIMIT.\n",
            "\n",
            "Increase the number of iterations (max_iter) or scale the data as shown in:\n",
            "    https://scikit-learn.org/stable/modules/preprocessing.html\n",
            "Please also refer to the documentation for alternative solver options:\n",
            "    https://scikit-learn.org/stable/modules/linear_model.html#logistic-regression\n",
            "  extra_warning_msg=_LOGISTIC_SOLVER_CONVERGENCE_MSG,\n",
            "/usr/local/lib/python3.7/dist-packages/sklearn/linear_model/_logistic.py:818: ConvergenceWarning: lbfgs failed to converge (status=1):\n",
            "STOP: TOTAL NO. of ITERATIONS REACHED LIMIT.\n",
            "\n",
            "Increase the number of iterations (max_iter) or scale the data as shown in:\n",
            "    https://scikit-learn.org/stable/modules/preprocessing.html\n",
            "Please also refer to the documentation for alternative solver options:\n",
            "    https://scikit-learn.org/stable/modules/linear_model.html#logistic-regression\n",
            "  extra_warning_msg=_LOGISTIC_SOLVER_CONVERGENCE_MSG,\n",
            "/usr/local/lib/python3.7/dist-packages/sklearn/linear_model/_logistic.py:818: ConvergenceWarning: lbfgs failed to converge (status=1):\n",
            "STOP: TOTAL NO. of ITERATIONS REACHED LIMIT.\n",
            "\n",
            "Increase the number of iterations (max_iter) or scale the data as shown in:\n",
            "    https://scikit-learn.org/stable/modules/preprocessing.html\n",
            "Please also refer to the documentation for alternative solver options:\n",
            "    https://scikit-learn.org/stable/modules/linear_model.html#logistic-regression\n",
            "  extra_warning_msg=_LOGISTIC_SOLVER_CONVERGENCE_MSG,\n",
            "/usr/local/lib/python3.7/dist-packages/sklearn/linear_model/_logistic.py:818: ConvergenceWarning: lbfgs failed to converge (status=1):\n",
            "STOP: TOTAL NO. of ITERATIONS REACHED LIMIT.\n",
            "\n",
            "Increase the number of iterations (max_iter) or scale the data as shown in:\n",
            "    https://scikit-learn.org/stable/modules/preprocessing.html\n",
            "Please also refer to the documentation for alternative solver options:\n",
            "    https://scikit-learn.org/stable/modules/linear_model.html#logistic-regression\n",
            "  extra_warning_msg=_LOGISTIC_SOLVER_CONVERGENCE_MSG,\n"
          ]
        },
        {
          "output_type": "display_data",
          "data": {
            "image/png": "[encoded data removed]",
            "text/plain": [
              "<Figure size 432x288 with 1 Axes>"
            ]
          },
          "metadata": {}
        }
      ]
    },
    {
      "cell_type": "code",
      "metadata": {
        "colab": {
          "base_uri": "https://localhost:8080/"
        },
        "id": "lw67btQVnXwt",
        "outputId": "875ae17d-c699-4b79-db2d-d05f58d69cdf"
      },
      "source": [
        "cv_df.groupby('model_name').accuracy.mean()"
      ],
      "execution_count": null,
      "outputs": [
        {
          "output_type": "execute_result",
          "data": {
            "text/plain": [
              "model_name\n",
              "LinearSVC                 0.085842\n",
              "LogisticRegression        0.087299\n",
              "MultinomialNB             0.085705\n",
              "RandomForestClassifier    0.080514\n",
              "Name: accuracy, dtype: float64"
            ]
          },
          "metadata": {},
          "execution_count": 37
        }
      ]
    }
  ]
}